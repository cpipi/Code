{
 "cells": [
  {
   "cell_type": "code",
   "execution_count": 1,
   "metadata": {},
   "outputs": [],
   "source": [
    "import torch"
   ]
  },
  {
   "cell_type": "code",
   "execution_count": 2,
   "metadata": {},
   "outputs": [
    {
     "name": "stdout",
     "output_type": "stream",
     "text": [
      "Requirement already satisfied: pytorch_transformers in c:\\users\\anuar\\anaconda3\\lib\\site-packages (1.2.0)\n",
      "Requirement already satisfied: sacremoses in c:\\users\\anuar\\anaconda3\\lib\\site-packages (from pytorch_transformers) (0.0.43)\n",
      "Requirement already satisfied: requests in c:\\users\\anuar\\anaconda3\\lib\\site-packages (from pytorch_transformers) (2.23.0)\n",
      "Requirement already satisfied: boto3 in c:\\users\\anuar\\anaconda3\\lib\\site-packages (from pytorch_transformers) (1.13.7)\n",
      "Requirement already satisfied: sentencepiece in c:\\users\\anuar\\anaconda3\\lib\\site-packages (from pytorch_transformers) (0.1.86)\n",
      "Requirement already satisfied: tqdm in c:\\users\\anuar\\anaconda3\\lib\\site-packages (from pytorch_transformers) (4.44.1)\n",
      "Requirement already satisfied: torch>=1.0.0 in c:\\users\\anuar\\anaconda3\\lib\\site-packages (from pytorch_transformers) (1.5.0)\n",
      "Requirement already satisfied: numpy in c:\\users\\anuar\\anaconda3\\lib\\site-packages (from pytorch_transformers) (1.17.0)\n",
      "Requirement already satisfied: regex in c:\\users\\anuar\\anaconda3\\lib\\site-packages (from pytorch_transformers) (2020.5.7)\n",
      "Requirement already satisfied: six in c:\\users\\anuar\\anaconda3\\lib\\site-packages (from sacremoses->pytorch_transformers) (1.14.0)\n",
      "Requirement already satisfied: joblib in c:\\users\\anuar\\anaconda3\\lib\\site-packages (from sacremoses->pytorch_transformers) (0.14.1)\n",
      "Requirement already satisfied: click in c:\\users\\anuar\\anaconda3\\lib\\site-packages (from sacremoses->pytorch_transformers) (7.1.1)\n",
      "Requirement already satisfied: certifi>=2017.4.17 in c:\\users\\anuar\\anaconda3\\lib\\site-packages (from requests->pytorch_transformers) (2020.4.5.1)\n",
      "Requirement already satisfied: idna<3,>=2.5 in c:\\users\\anuar\\anaconda3\\lib\\site-packages (from requests->pytorch_transformers) (2.9)\n",
      "Requirement already satisfied: chardet<4,>=3.0.2 in c:\\users\\anuar\\anaconda3\\lib\\site-packages (from requests->pytorch_transformers) (3.0.4)\n",
      "Requirement already satisfied: urllib3!=1.25.0,!=1.25.1,<1.26,>=1.21.1 in c:\\users\\anuar\\anaconda3\\lib\\site-packages (from requests->pytorch_transformers) (1.25.8)\n",
      "Requirement already satisfied: s3transfer<0.4.0,>=0.3.0 in c:\\users\\anuar\\anaconda3\\lib\\site-packages (from boto3->pytorch_transformers) (0.3.3)\n",
      "Requirement already satisfied: jmespath<1.0.0,>=0.7.1 in c:\\users\\anuar\\anaconda3\\lib\\site-packages (from boto3->pytorch_transformers) (0.9.5)\n",
      "Requirement already satisfied: botocore<1.17.0,>=1.16.7 in c:\\users\\anuar\\anaconda3\\lib\\site-packages (from boto3->pytorch_transformers) (1.16.7)\n",
      "Requirement already satisfied: future in c:\\users\\anuar\\anaconda3\\lib\\site-packages (from torch>=1.0.0->pytorch_transformers) (0.18.2)\n",
      "Requirement already satisfied: python-dateutil<3.0.0,>=2.1 in c:\\users\\anuar\\anaconda3\\lib\\site-packages (from botocore<1.17.0,>=1.16.7->boto3->pytorch_transformers) (2.8.1)\n",
      "Requirement already satisfied: docutils<0.16,>=0.10 in c:\\users\\anuar\\anaconda3\\lib\\site-packages (from botocore<1.17.0,>=1.16.7->boto3->pytorch_transformers) (0.15.2)\n",
      "Requirement already satisfied: pytorch-pretrained-bert in c:\\users\\anuar\\anaconda3\\lib\\site-packages (0.6.2)\n",
      "Requirement already satisfied: numpy in c:\\users\\anuar\\anaconda3\\lib\\site-packages (from pytorch-pretrained-bert) (1.17.0)\n",
      "Requirement already satisfied: boto3 in c:\\users\\anuar\\anaconda3\\lib\\site-packages (from pytorch-pretrained-bert) (1.13.7)\n",
      "Requirement already satisfied: requests in c:\\users\\anuar\\anaconda3\\lib\\site-packages (from pytorch-pretrained-bert) (2.23.0)\n",
      "Requirement already satisfied: torch>=0.4.1 in c:\\users\\anuar\\anaconda3\\lib\\site-packages (from pytorch-pretrained-bert) (1.5.0)\n",
      "Requirement already satisfied: regex in c:\\users\\anuar\\anaconda3\\lib\\site-packages (from pytorch-pretrained-bert) (2020.5.7)\n",
      "Requirement already satisfied: tqdm in c:\\users\\anuar\\anaconda3\\lib\\site-packages (from pytorch-pretrained-bert) (4.44.1)\n",
      "Requirement already satisfied: s3transfer<0.4.0,>=0.3.0 in c:\\users\\anuar\\anaconda3\\lib\\site-packages (from boto3->pytorch-pretrained-bert) (0.3.3)\n",
      "Requirement already satisfied: botocore<1.17.0,>=1.16.7 in c:\\users\\anuar\\anaconda3\\lib\\site-packages (from boto3->pytorch-pretrained-bert) (1.16.7)\n",
      "Requirement already satisfied: jmespath<1.0.0,>=0.7.1 in c:\\users\\anuar\\anaconda3\\lib\\site-packages (from boto3->pytorch-pretrained-bert) (0.9.5)\n",
      "Requirement already satisfied: urllib3!=1.25.0,!=1.25.1,<1.26,>=1.21.1 in c:\\users\\anuar\\anaconda3\\lib\\site-packages (from requests->pytorch-pretrained-bert) (1.25.8)\n",
      "Requirement already satisfied: certifi>=2017.4.17 in c:\\users\\anuar\\anaconda3\\lib\\site-packages (from requests->pytorch-pretrained-bert) (2020.4.5.1)\n",
      "Requirement already satisfied: idna<3,>=2.5 in c:\\users\\anuar\\anaconda3\\lib\\site-packages (from requests->pytorch-pretrained-bert) (2.9)\n",
      "Requirement already satisfied: chardet<4,>=3.0.2 in c:\\users\\anuar\\anaconda3\\lib\\site-packages (from requests->pytorch-pretrained-bert) (3.0.4)\n",
      "Requirement already satisfied: future in c:\\users\\anuar\\anaconda3\\lib\\site-packages (from torch>=0.4.1->pytorch-pretrained-bert) (0.18.2)\n",
      "Requirement already satisfied: docutils<0.16,>=0.10 in c:\\users\\anuar\\anaconda3\\lib\\site-packages (from botocore<1.17.0,>=1.16.7->boto3->pytorch-pretrained-bert) (0.15.2)\n",
      "Requirement already satisfied: python-dateutil<3.0.0,>=2.1 in c:\\users\\anuar\\anaconda3\\lib\\site-packages (from botocore<1.17.0,>=1.16.7->boto3->pytorch-pretrained-bert) (2.8.1)\n",
      "Requirement already satisfied: six>=1.5 in c:\\users\\anuar\\anaconda3\\lib\\site-packages (from python-dateutil<3.0.0,>=2.1->botocore<1.17.0,>=1.16.7->boto3->pytorch-pretrained-bert) (1.14.0)\n",
      "Requirement already satisfied: fairseq in c:\\users\\anuar\\anaconda3\\lib\\site-packages (0.9.0)\n",
      "Requirement already satisfied: torch in c:\\users\\anuar\\anaconda3\\lib\\site-packages (from fairseq) (1.5.0)\n",
      "Requirement already satisfied: tqdm in c:\\users\\anuar\\anaconda3\\lib\\site-packages (from fairseq) (4.44.1)\n",
      "Requirement already satisfied: cython in c:\\users\\anuar\\anaconda3\\lib\\site-packages (from fairseq) (0.29.15)\n",
      "Requirement already satisfied: regex in c:\\users\\anuar\\anaconda3\\lib\\site-packages (from fairseq) (2020.5.7)\n",
      "Requirement already satisfied: sacrebleu in c:\\users\\anuar\\anaconda3\\lib\\site-packages (from fairseq) (1.4.9)\n",
      "Requirement already satisfied: numpy in c:\\users\\anuar\\anaconda3\\lib\\site-packages (from fairseq) (1.17.0)\n",
      "Requirement already satisfied: cffi in c:\\users\\anuar\\anaconda3\\lib\\site-packages (from fairseq) (1.14.0)\n",
      "Requirement already satisfied: future in c:\\users\\anuar\\anaconda3\\lib\\site-packages (from torch->fairseq) (0.18.2)\n",
      "Requirement already satisfied: portalocker in c:\\users\\anuar\\anaconda3\\lib\\site-packages (from sacrebleu->fairseq) (1.7.0)\n",
      "Requirement already satisfied: typing in c:\\users\\anuar\\anaconda3\\lib\\site-packages (from sacrebleu->fairseq) (3.7.4.1)\n",
      "Requirement already satisfied: pycparser in c:\\users\\anuar\\anaconda3\\lib\\site-packages (from cffi->fairseq) (2.20)\n",
      "Requirement already satisfied: pywin32!=226; platform_system == \"Windows\" in c:\\users\\anuar\\anaconda3\\lib\\site-packages (from portalocker->sacrebleu->fairseq) (227)\n",
      "Requirement already satisfied: pyrouge in c:\\users\\anuar\\anaconda3\\lib\\site-packages (0.1.3)\n",
      "Requirement already satisfied: py-rouge in c:\\users\\anuar\\anaconda3\\lib\\site-packages (1.1)\n"
     ]
    }
   ],
   "source": [
    "import sys\n",
    "!{sys.executable} -m pip install pytorch_transformers\n",
    "!{sys.executable} -m pip install pytorch-pretrained-bert\n",
    "!{sys.executable} -m pip install fairseq\n",
    "!{sys.executable} -m pip install pyrouge\n",
    "!{sys.executable} -m pip install py-rouge"
   ]
  },
  {
   "cell_type": "code",
   "execution_count": 9,
   "metadata": {},
   "outputs": [
    {
     "ename": "SyntaxError",
     "evalue": "invalid syntax (<ipython-input-9-d5f9d30c532a>, line 12)",
     "output_type": "error",
     "traceback": [
      "\u001b[1;36m  File \u001b[1;32m\"<ipython-input-9-d5f9d30c532a>\"\u001b[1;36m, line \u001b[1;32m12\u001b[0m\n\u001b[1;33m    fairseq-train $DATA_DIR \\\u001b[0m\n\u001b[1;37m                  ^\u001b[0m\n\u001b[1;31mSyntaxError\u001b[0m\u001b[1;31m:\u001b[0m invalid syntax\n"
     ]
    }
   ],
   "source": [
    "\n",
    "%%shell\n",
    "\n",
    "DATA_DIR='gigaword/processed'\n",
    "USER_DIR= './prophetnet'\n",
    "ARCH=ngram_transformer_prophet_large\n",
    "CRITERION=ngram_language_loss\n",
    "SAVE_DIR='gigaword/finetune_gigaword_checkpoints'\n",
    "TENSORBOARD_LOGDIR='gigaword/finetune_gigaword_tensorboard'\n",
    "PRETRAINED_MODEL='gigaword/model/prophetnet_large_pretrained_160G_14epoch_model.pt'\n",
    "\n",
    "fairseq-train $DATA_DIR \\\n",
    "\t--fp16 \\\n",
    "\t--user-dir $USER_DIR --task translation_prophetnet --arch $ARCH \\\n",
    "\t--optimizer adam --adam-betas '(0.9, 0.999)' --clip-norm 0.1 \\\n",
    "\t--lr 0.0001 --min-lr 1e-09 \\\n",
    "\t--lr-scheduler inverse_sqrt --warmup-init-lr 1e-07 --warmup-updates 1000 \\\n",
    "\t--dropout 0.1 --attention-dropout 0.1 --weight-decay 0.01 \\\n",
    "\t--criterion $CRITERION --label-smoothing 0.1 \\\n",
    "\t--update-freq 1  --max-tokens 1300 --max-sentences 16 \\\n",
    "\t--num-workers 8  \\\n",
    "\t--load-from-pretrained-model $PRETRAINED_MODEL \\\n",
    "\t--ddp-backend=no_c10d --max-epoch 10 \\\n",
    "\t--max-source-positions 512 --max-target-positions 512 \\\n",
    "\t--skip-invalid-size-inputs-valid-test \\\n",
    "\t--save-dir $SAVE_DIR \\\n",
    "\t--keep-last-epochs 10 \\\n",
    "\t--tensorboard-logdir $TENSORBOARD_LOGDIR \\"
   ]
  },
  {
   "cell_type": "code",
   "execution_count": 6,
   "metadata": {},
   "outputs": [
    {
     "name": "stderr",
     "output_type": "stream",
     "text": [
      "UsageError: Cell magic `%%shell` not found.\n"
     ]
    }
   ],
   "source": [
    "!pwd\n",
    "%%shell\n",
    "\n",
    "SUFFIX='_ck7_pelt1.0_test_beam4'\n",
    "BEAM=4\n",
    "LENPEN=1.0\n",
    "CHECK_POINT='gigaword/model/prophetnet_large_pretrained_160G_14epoch_model.pt'\n",
    "OUTPUT_FILE='gigaword/output$SUFFIX.txt'\n",
    "SCORE_FILE='gigaword/score$SUFFIX.txt'\n",
    "INPUT='output/tokenized.src'\n",
    "\n",
    "fairseq-generate gigaword/processed --path $CHECK_POINT --user-dir prophetnet --task translation_prophetnet --batch-size 80 --gen-subset test --beam $BEAM --num-workers 4 --lenpen $LENPEN 2>&1 > $OUTPUT_FILE\n",
    "grep ^H $OUTPUT_FILE | cut -c 3- | sort -n | cut -f3- | sed \"s/ ##//g\" > output/output_summary.txt\n",
    "#python gigaword/eval/eval.py --pred gigaword/sort_hypo$SUFFIX.txt --gold gigaword/original_data/test.tgt.txt --perl > $SCORE_FILE"
   ]
  },
  {
   "cell_type": "code",
   "execution_count": null,
   "metadata": {},
   "outputs": [],
   "source": []
  }
 ],
 "metadata": {
  "kernelspec": {
   "display_name": "Python 3",
   "language": "python",
   "name": "python3"
  },
  "language_info": {
   "codemirror_mode": {
    "name": "ipython",
    "version": 3
   },
   "file_extension": ".py",
   "mimetype": "text/x-python",
   "name": "python",
   "nbconvert_exporter": "python",
   "pygments_lexer": "ipython3",
   "version": "3.7.7"
  }
 },
 "nbformat": 4,
 "nbformat_minor": 4
}
